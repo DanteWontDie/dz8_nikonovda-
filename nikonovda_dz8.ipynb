{
 "cells": [
  {
   "cell_type": "markdown",
   "id": "cac33e48-ea7a-4c33-9a42-b887423d5c2a",
   "metadata": {},
   "source": [
    "Домашнее задание 8. API"
   ]
  },
  {
   "cell_type": "markdown",
   "id": "d5dd793c-3a5b-4180-ae06-d7dd81e87e4f",
   "metadata": {},
   "source": [
    "Задание 1. Получение данных из публичного API\n",
    "    Выберите публичный API. Например, JSONPlaceholder.\n",
    "    Напишите скрипт, который:\n",
    "    отправляет GET-запроск/posts, извлекает и выводит заголовки и тела первых 5 постов"
   ]
  },
  {
   "cell_type": "code",
   "execution_count": 35,
   "id": "2148cf4a-0c95-453c-bd16-7a8fa1bddae7",
   "metadata": {},
   "outputs": [
    {
     "name": "stdout",
     "output_type": "stream",
     "text": [
      "Пост 1: sunt aut facere repellat provident occaecati excepturi optio reprehenderit\n",
      "quia et suscipit\n",
      "suscipit recusandae consequuntur expedita et cum\n",
      "reprehenderit molestiae ut ut quas totam\n",
      "nostrum rerum est autem sunt rem eveniet architecto\n",
      "--------------------------------------------------\n",
      "Пост 2: qui est esse\n",
      "est rerum tempore vitae\n",
      "sequi sint nihil reprehenderit dolor beatae ea dolores neque\n",
      "fugiat blanditiis voluptate porro vel nihil molestiae ut reiciendis\n",
      "qui aperiam non debitis possimus qui neque nisi nulla\n",
      "--------------------------------------------------\n",
      "Пост 3: ea molestias quasi exercitationem repellat qui ipsa sit aut\n",
      "et iusto sed quo iure\n",
      "voluptatem occaecati omnis eligendi aut ad\n",
      "voluptatem doloribus vel accusantium quis pariatur\n",
      "molestiae porro eius odio et labore et velit aut\n",
      "--------------------------------------------------\n",
      "Пост 4: eum et est occaecati\n",
      "ullam et saepe reiciendis voluptatem adipisci\n",
      "sit amet autem assumenda provident rerum culpa\n",
      "quis hic commodi nesciunt rem tenetur doloremque ipsam iure\n",
      "quis sunt voluptatem rerum illo velit\n",
      "--------------------------------------------------\n",
      "Пост 5: nesciunt quas odio\n",
      "repudiandae veniam quaerat sunt sed\n",
      "alias aut fugiat sit autem sed est\n",
      "voluptatem omnis possimus esse voluptatibus quis\n",
      "est aut tenetur dolor neque\n",
      "--------------------------------------------------\n"
     ]
    }
   ],
   "source": [
    "import requests\n",
    "\n",
    "#URL куда обращаемся\n",
    "api_url = \"https://jsonplaceholder.typicode.com/posts\"\n",
    "\n",
    "#Направляем GET-запрос\n",
    "response = requests.get(api_url)\n",
    "\n",
    "#Проверка кода ответа и вывод результата в консоль\n",
    "if response.status_code == 200:\n",
    "    one_hundred_posts = response.json()\n",
    "    #Вывод заголовков и тела из первых 5-ти постов\n",
    "    for i in range(5):\n",
    "        print(f\"Пост {i+1}: {one_hundred_posts[i]['title']}\")\n",
    "        print(one_hundred_posts[i]['body'])\n",
    "        print(50 * \"-\")\n",
    "else:\n",
    "    print(f\"Ошибка: {response.status_code}\")"
   ]
  },
  {
   "cell_type": "markdown",
   "id": "ec61eee8-9c6b-4006-b27d-8e5f8dbcc8b8",
   "metadata": {},
   "source": [
    "Задание 2. Работа с параметрами запроса\n",
    " 1. Используйте API OpenWeather для получения данных о погоде.\n",
    " 2. Напишите программу, которая:\n",
    " * принимает название города от пользователя,\n",
    " * отправляет GET-запрос к API и выводит текущую температуру и\n",
    " описание погоды."
   ]
  },
  {
   "cell_type": "code",
   "execution_count": 116,
   "id": "ef663bd8-9a5f-4a6f-aabf-6f7b5a9c7db0",
   "metadata": {},
   "outputs": [
    {
     "name": "stdin",
     "output_type": "stream",
     "text": [
      "Введите наименование города:  Moscow\n"
     ]
    },
    {
     "name": "stdout",
     "output_type": "stream",
     "text": [
      "55.7504461 37.6174943\n",
      "Погода в городе: Moscow\n",
      "Температура: -0.07 *C\n",
      "Осадки: пасмурно\n",
      "Скорость ветра: 4.11 км/ч\n"
     ]
    }
   ],
   "source": [
    "import requests\n",
    "\n",
    "# API токен (нехорошо хранить токен в коде)\n",
    "api_token = \"c2242959ad8b5549e3cf8e105911005f\"\n",
    "\n",
    "# Запрос названия города у пользователя\n",
    "city_name = input(\"Введите наименование города: \")\n",
    "\n",
    "# URL геоданных и переменные для формирования запроса\n",
    "url_geo = \"https://api.openweathermap.org/geo/1.0/direct\"\n",
    "params_for_url_geo = {\n",
    "    \"q\":city_name,\n",
    "    \"limit\": 1,\n",
    "    \"appid\": api_token\n",
    "}\n",
    "\n",
    "# Получаем широту и долготу для выбранного города\n",
    "response_geo = requests.get(url_geo, params=params_for_url_geo)\n",
    "if response_geo.status_code == 200:\n",
    "    geo_data = response_geo.json()\n",
    "    # Проверяем корректность введенных данных\n",
    "    if geo_data:\n",
    "        city_lon = (geo_data[0][\"lon\"])\n",
    "        city_lat = (geo_data[0][\"lat\"])\n",
    "    else:\n",
    "        print(\"Введите корректно наименование города!\")\n",
    "else:\n",
    "    print(f\"Ошибка: {response_geo.status_code}\")\n",
    "\n",
    "#delete\n",
    "print (city_lat, city_lon)\n",
    "\n",
    "# URL и переменные для формирования запроса о погоде (пришлось использовать другую версию API, ибо 3.0 - платная)\n",
    "url_weather = \"https://api.openweathermap.org/data/2.5/weather\"\n",
    "params_for_url_weather = {\n",
    "    \"lat\": city_lat,\n",
    "    \"lon\": city_lon,\n",
    "    \"dt\": 1,\n",
    "    \"appid\": api_token,\n",
    "    \"units\": \"metric\",\n",
    "    \"lang\": \"ru\"\n",
    "}\n",
    "\n",
    "# Получаем данные о погоде в городе и парсим ее\n",
    "response_weather = requests.get(url_weather, params=params_for_url_weather)\n",
    "weather_data = response_weather.json()\n",
    "temperature_city = weather_data[\"main\"][\"temp\"]\n",
    "description_city = weather_data[\"weather\"][0][\"description\"]\n",
    "wind_city = weather_data[\"wind\"][\"speed\"]\n",
    "\n",
    "print(f\"Погода в городе: {city_name}\")\n",
    "print(f\"Температура: {temperature_city} *C\")\n",
    "print(f\"Осадки: {description_city}\")\n",
    "print(f\"Скорость ветра: {wind_city} км/ч\")\n"
   ]
  }
 ],
 "metadata": {
  "kernelspec": {
   "display_name": "Python [conda env:base] *",
   "language": "python",
   "name": "conda-base-py"
  },
  "language_info": {
   "codemirror_mode": {
    "name": "ipython",
    "version": 3
   },
   "file_extension": ".py",
   "mimetype": "text/x-python",
   "name": "python",
   "nbconvert_exporter": "python",
   "pygments_lexer": "ipython3",
   "version": "3.12.7"
  }
 },
 "nbformat": 4,
 "nbformat_minor": 5
}
