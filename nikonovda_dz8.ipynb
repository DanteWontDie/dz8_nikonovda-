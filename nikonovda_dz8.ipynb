{
 "cells": [
  {
   "cell_type": "markdown",
   "id": "cac33e48-ea7a-4c33-9a42-b887423d5c2a",
   "metadata": {},
   "source": [
    "Домашнее задание 8. API"
   ]
  },
  {
   "cell_type": "markdown",
   "id": "d5dd793c-3a5b-4180-ae06-d7dd81e87e4f",
   "metadata": {},
   "source": [
    "Задание 1. Получение данных из публичного API\n",
    "    Выберите публичный API. Например, JSONPlaceholder.\n",
    "    Напишите скрипт, который:\n",
    "    отправляет GET-запроск/posts, извлекает и выводит заголовки и тела первых 5 постов"
   ]
  },
  {
   "cell_type": "code",
   "execution_count": 35,
   "id": "2148cf4a-0c95-453c-bd16-7a8fa1bddae7",
   "metadata": {},
   "outputs": [
    {
     "name": "stdout",
     "output_type": "stream",
     "text": [
      "Пост 1: sunt aut facere repellat provident occaecati excepturi optio reprehenderit\n",
      "quia et suscipit\n",
      "suscipit recusandae consequuntur expedita et cum\n",
      "reprehenderit molestiae ut ut quas totam\n",
      "nostrum rerum est autem sunt rem eveniet architecto\n",
      "--------------------------------------------------\n",
      "Пост 2: qui est esse\n",
      "est rerum tempore vitae\n",
      "sequi sint nihil reprehenderit dolor beatae ea dolores neque\n",
      "fugiat blanditiis voluptate porro vel nihil molestiae ut reiciendis\n",
      "qui aperiam non debitis possimus qui neque nisi nulla\n",
      "--------------------------------------------------\n",
      "Пост 3: ea molestias quasi exercitationem repellat qui ipsa sit aut\n",
      "et iusto sed quo iure\n",
      "voluptatem occaecati omnis eligendi aut ad\n",
      "voluptatem doloribus vel accusantium quis pariatur\n",
      "molestiae porro eius odio et labore et velit aut\n",
      "--------------------------------------------------\n",
      "Пост 4: eum et est occaecati\n",
      "ullam et saepe reiciendis voluptatem adipisci\n",
      "sit amet autem assumenda provident rerum culpa\n",
      "quis hic commodi nesciunt rem tenetur doloremque ipsam iure\n",
      "quis sunt voluptatem rerum illo velit\n",
      "--------------------------------------------------\n",
      "Пост 5: nesciunt quas odio\n",
      "repudiandae veniam quaerat sunt sed\n",
      "alias aut fugiat sit autem sed est\n",
      "voluptatem omnis possimus esse voluptatibus quis\n",
      "est aut tenetur dolor neque\n",
      "--------------------------------------------------\n"
     ]
    }
   ],
   "source": [
    "import requests\n",
    "\n",
    "#URL куда обращаемся\n",
    "api_url = \"https://jsonplaceholder.typicode.com/posts\"\n",
    "\n",
    "#Направляем GET-запрос\n",
    "response = requests.get(api_url)\n",
    "\n",
    "#Проверка кода ответа\n",
    "if response.status_code == 200:\n",
    "    one_hundred_posts = response.json()\n",
    "    #Вывод заголовков и тела из первых 5-ти постов\n",
    "    for i in range(5):\n",
    "        print(f\"Пост {i+1}: {one_hundred_posts[i]['title']}\")\n",
    "        print(one_hundred_posts[i]['body'])\n",
    "        print(50 * \"-\")\n",
    "else:\n",
    "    print(f\"Ошибка: {response.status_code}\")"
   ]
  },
  {
   "cell_type": "markdown",
   "id": "ec61eee8-9c6b-4006-b27d-8e5f8dbcc8b8",
   "metadata": {},
   "source": [
    "Задание 2. Работа с параметрами запроса\n",
    " 1. Используйте API OpenWeather для получения данных о погоде.\n",
    " 2. Напишите программу, которая:\n",
    " * принимает название города от пользователя,\n",
    " * отправляет GET-запрос к API и выводит текущую температуру и\n",
    " описание погоды."
   ]
  },
  {
   "cell_type": "code",
   "execution_count": null,
   "id": "ef663bd8-9a5f-4a6f-aabf-6f7b5a9c7db0",
   "metadata": {},
   "outputs": [],
   "source": []
  }
 ],
 "metadata": {
  "kernelspec": {
   "display_name": "Python [conda env:base] *",
   "language": "python",
   "name": "conda-base-py"
  },
  "language_info": {
   "codemirror_mode": {
    "name": "ipython",
    "version": 3
   },
   "file_extension": ".py",
   "mimetype": "text/x-python",
   "name": "python",
   "nbconvert_exporter": "python",
   "pygments_lexer": "ipython3",
   "version": "3.12.7"
  }
 },
 "nbformat": 4,
 "nbformat_minor": 5
}
